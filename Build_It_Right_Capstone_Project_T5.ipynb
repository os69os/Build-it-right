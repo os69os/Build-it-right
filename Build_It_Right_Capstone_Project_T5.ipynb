{
  "cells": [
    {
      "cell_type": "markdown",
      "metadata": {
        "id": "U-Ffn2eIZUQ4"
      },
      "source": [
        "# Build It Right Capstone Project\n",
        "\n",
        "## Introduction\n",
        "\n",
        "Welcome to **Build It Right**, an innovative application designed to enhance energy efficiency in residential buildings. This tool allows users to input various parameters related to their house design and provides actionable recommendations to improve energy efficiency based on predicted cooling and heating loads.\n",
        "\n",
        "### Objectives\n",
        "\n",
        "The primary goals of this project are to:\n",
        "1. Analyze and clean a comprehensive dataset of residential buildings.\n",
        "2. Perform exploratory data analysis to uncover key insights.\n",
        "3. Engineer features that contribute to accurate energy consumption predictions.\n",
        "4. Train and evaluate machine learning models to predict cooling and heating energy loads.\n",
        "5. Provide recommendations on materials to reduce energy consumption.\n",
        "\n",
        "In the sections that follow, we will delve into the details of the data preparation, analysis, modeling, and the insights derived from this process."
      ]
    },
    {
      "cell_type": "markdown",
      "metadata": {
        "id": "rw3ljGBwZURS"
      },
      "source": [
        "## Data Loading and Preparation"
      ]
    },
    {
      "cell_type": "code",
      "execution_count": null,
      "metadata": {
        "id": "KxclDFgF50Qo"
      },
      "outputs": [],
      "source": [
        "# Import necessary libraries\n",
        "import pandas as pd\n",
        "import numpy as np\n",
        "import seaborn as sns\n",
        "import matplotlib.pyplot as plt\n",
        "from scipy.stats import boxcox\n",
        "from pycaret.regression import *"
      ]
    },
    {
      "cell_type": "code",
      "execution_count": null,
      "metadata": {
        "id": "qHpn0zy46dSy"
      },
      "outputs": [],
      "source": [
        "# Load the dataset\n",
        "df = pd.read_csv('Houses_data.csv')"
      ]
    },
    {
      "cell_type": "code",
      "execution_count": null,
      "metadata": {
        "colab": {
          "base_uri": "https://localhost:8080/",
          "height": 244
        },
        "collapsed": true,
        "id": "6y_EqwNY6mkV",
        "outputId": "31213e5d-c11c-4fb6-9710-ccaa76d68a53"
      },
      "outputs": [
        {
          "data": {
            "application/vnd.google.colaboratory.intrinsic+json": {
              "summary": "{\n  \"name\": \"df\",\n  \"rows\": 15356,\n  \"fields\": [\n    {\n      \"column\": \"Unnamed: 0\",\n      \"properties\": {\n        \"dtype\": \"number\",\n        \"std\": 4433,\n        \"min\": 0,\n        \"max\": 15355,\n        \"num_unique_values\": 15356,\n        \"samples\": [\n          6389,\n          9622,\n          9192\n        ],\n        \"semantic_type\": \"\",\n        \"description\": \"\"\n      }\n    },\n    {\n      \"column\": \"Width\",\n      \"properties\": {\n        \"dtype\": \"number\",\n        \"std\": 11,\n        \"min\": 30,\n        \"max\": 60,\n        \"num_unique_values\": 4,\n        \"samples\": [\n          40,\n          60,\n          30\n        ],\n        \"semantic_type\": \"\",\n        \"description\": \"\"\n      }\n    },\n    {\n      \"column\": \"Length\",\n      \"properties\": {\n        \"dtype\": \"number\",\n        \"std\": 11,\n        \"min\": 30,\n        \"max\": 60,\n        \"num_unique_values\": 4,\n        \"samples\": [\n          40,\n          60,\n          30\n        ],\n        \"semantic_type\": \"\",\n        \"description\": \"\"\n      }\n    },\n    {\n      \"column\": \"Height\",\n      \"properties\": {\n        \"dtype\": \"number\",\n        \"std\": 3,\n        \"min\": 8,\n        \"max\": 16,\n        \"num_unique_values\": 3,\n        \"samples\": [\n          8,\n          12,\n          16\n        ],\n        \"semantic_type\": \"\",\n        \"description\": \"\"\n      }\n    },\n    {\n      \"column\": \"Orientation\",\n      \"properties\": {\n        \"dtype\": \"number\",\n        \"std\": 103,\n        \"min\": 0,\n        \"max\": 315,\n        \"num_unique_values\": 8,\n        \"samples\": [\n          45,\n          225,\n          0\n        ],\n        \"semantic_type\": \"\",\n        \"description\": \"\"\n      }\n    },\n    {\n      \"column\": \"Window_Ratio\",\n      \"properties\": {\n        \"dtype\": \"number\",\n        \"std\": 0.11179538239861497,\n        \"min\": 0.1,\n        \"max\": 0.4,\n        \"num_unique_values\": 4,\n        \"samples\": [\n          0.2,\n          0.4,\n          0.1\n        ],\n        \"semantic_type\": \"\",\n        \"description\": \"\"\n      }\n    },\n    {\n      \"column\": \"Skylight_Ratio\",\n      \"properties\": {\n        \"dtype\": \"number\",\n        \"std\": 0.11179337523905722,\n        \"min\": 0.1,\n        \"max\": 0.4,\n        \"num_unique_values\": 4,\n        \"samples\": [\n          0.2,\n          0.4,\n          0.1\n        ],\n        \"semantic_type\": \"\",\n        \"description\": \"\"\n      }\n    },\n    {\n      \"column\": \"Area\",\n      \"properties\": {\n        \"dtype\": \"number\",\n        \"std\": 2809,\n        \"min\": 1078,\n        \"max\": 14400,\n        \"num_unique_values\": 69,\n        \"samples\": [\n          1078,\n          1800,\n          2816\n        ],\n        \"semantic_type\": \"\",\n        \"description\": \"\"\n      }\n    },\n    {\n      \"column\": \"Court_Length\",\n      \"properties\": {\n        \"dtype\": \"number\",\n        \"std\": 11.181523092641708,\n        \"min\": 8.0,\n        \"max\": 38.0,\n        \"num_unique_values\": 4,\n        \"samples\": [\n          18.0,\n          38.0,\n          8.0\n        ],\n        \"semantic_type\": \"\",\n        \"description\": \"\"\n      }\n    },\n    {\n      \"column\": \"Court_Width\",\n      \"properties\": {\n        \"dtype\": \"number\",\n        \"std\": 11.180794518404827,\n        \"min\": 8.0,\n        \"max\": 38.0,\n        \"num_unique_values\": 4,\n        \"samples\": [\n          18.0,\n          38.0,\n          8.0\n        ],\n        \"semantic_type\": \"\",\n        \"description\": \"\"\n      }\n    },\n    {\n      \"column\": \"Form_Factor\",\n      \"properties\": {\n        \"dtype\": \"number\",\n        \"std\": 0.27931424561972,\n        \"min\": 0.76666667,\n        \"max\": 1.8905,\n        \"num_unique_values\": 96,\n        \"samples\": [\n          1.46801347,\n          1.4965035,\n          1.78524374\n        ],\n        \"semantic_type\": \"\",\n        \"description\": \"\"\n      }\n    },\n    {\n      \"column\": \"Surface_Volume_Ratio\",\n      \"properties\": {\n        \"dtype\": \"number\",\n        \"std\": 0.06982819269041331,\n        \"min\": 0.19166667,\n        \"max\": 0.4726,\n        \"num_unique_values\": 96,\n        \"samples\": [\n          0.36700337,\n          0.37412587,\n          0.44631094\n        ],\n        \"semantic_type\": \"\",\n        \"description\": \"\"\n      }\n    },\n    {\n      \"column\": \"Cooling_Load\",\n      \"properties\": {\n        \"dtype\": \"number\",\n        \"std\": 17.007170133556357,\n        \"min\": -999.0,\n        \"max\": 57.63971843,\n        \"num_unique_values\": 7259,\n        \"samples\": [\n          45.49485963,\n          47.04644391,\n          48.52042124\n        ],\n        \"semantic_type\": \"\",\n        \"description\": \"\"\n      }\n    },\n    {\n      \"column\": \"Heating_Load\",\n      \"properties\": {\n        \"dtype\": \"number\",\n        \"std\": 16.141470187802927,\n        \"min\": -999.0,\n        \"max\": 2.65530431,\n        \"num_unique_values\": 7141,\n        \"samples\": [\n          1.00133876,\n          0.8949,\n          0.75460089\n        ],\n        \"semantic_type\": \"\",\n        \"description\": \"\"\n      }\n    },\n    {\n      \"column\": \"Total_Load\",\n      \"properties\": {\n        \"dtype\": \"number\",\n        \"std\": 17.01409691933693,\n        \"min\": -999.0,\n        \"max\": 59.31602534,\n        \"num_unique_values\": 7186,\n        \"samples\": [\n          54.86619705,\n          47.08687313,\n          47.75475597\n        ],\n        \"semantic_type\": \"\",\n        \"description\": \"\"\n      }\n    },\n    {\n      \"column\": \"Image\",\n      \"properties\": {\n        \"dtype\": \"string\",\n        \"num_unique_values\": 7680,\n        \"samples\": [\n          \"WIDTH30_LENGTH50_HIGHT16_ORIENTATION180_WINDOWSRATIO40%_SKYLIGHTRATIO40%_3Dview.png\",\n          \"WIDTH50_LENGTH30_HIGHT8_ORIENTATION225_WINDOWSRATIO40%_SKYLIGHTRATIO30%_3Dview.png\",\n          \"WIDTH60_LENGTH40_HIGHT16_ORIENTATION0_WINDOWSRATIO10%_SKYLIGHTRATIO20%_3Dview.png\"\n        ],\n        \"semantic_type\": \"\",\n        \"description\": \"\"\n      }\n    },\n    {\n      \"column\": \"ThreeD\",\n      \"properties\": {\n        \"dtype\": \"string\",\n        \"num_unique_values\": 7680,\n        \"samples\": [\n          \"WIDTH30_LENGTH50_HIGHT16_ORIENTATION180_WINDOWSRATIO40%_SKYLIGHTRATIO40%.json\",\n          \"WIDTH50_LENGTH30_HIGHT8_ORIENTATION225_WINDOWSRATIO40%_SKYLIGHTRATIO30%.json\",\n          \"WIDTH60_LENGTH40_HIGHT16_ORIENTATION0_WINDOWSRATIO10%_SKYLIGHTRATIO20%.json\"\n        ],\n        \"semantic_type\": \"\",\n        \"description\": \"\"\n      }\n    },\n    {\n      \"column\": \"Shape\",\n      \"properties\": {\n        \"dtype\": \"category\",\n        \"num_unique_values\": 4,\n        \"samples\": [\n          \"L\",\n          \"U\",\n          \"Box\"\n        ],\n        \"semantic_type\": \"\",\n        \"description\": \"\"\n      }\n    }\n  ]\n}",
              "type": "dataframe",
              "variable_name": "df"
            },
            "text/html": [
              "\n",
              "  <div id=\"df-00c83e45-d3fe-4751-80ea-165afb46665d\" class=\"colab-df-container\">\n",
              "    <div>\n",
              "<style scoped>\n",
              "    .dataframe tbody tr th:only-of-type {\n",
              "        vertical-align: middle;\n",
              "    }\n",
              "\n",
              "    .dataframe tbody tr th {\n",
              "        vertical-align: top;\n",
              "    }\n",
              "\n",
              "    .dataframe thead th {\n",
              "        text-align: right;\n",
              "    }\n",
              "</style>\n",
              "<table border=\"1\" class=\"dataframe\">\n",
              "  <thead>\n",
              "    <tr style=\"text-align: right;\">\n",
              "      <th></th>\n",
              "      <th>Unnamed: 0</th>\n",
              "      <th>Width</th>\n",
              "      <th>Length</th>\n",
              "      <th>Height</th>\n",
              "      <th>Orientation</th>\n",
              "      <th>Window_Ratio</th>\n",
              "      <th>Skylight_Ratio</th>\n",
              "      <th>Area</th>\n",
              "      <th>Court_Length</th>\n",
              "      <th>Court_Width</th>\n",
              "      <th>Form_Factor</th>\n",
              "      <th>Surface_Volume_Ratio</th>\n",
              "      <th>Cooling_Load</th>\n",
              "      <th>Heating_Load</th>\n",
              "      <th>Total_Load</th>\n",
              "      <th>Image</th>\n",
              "      <th>ThreeD</th>\n",
              "      <th>Shape</th>\n",
              "    </tr>\n",
              "  </thead>\n",
              "  <tbody>\n",
              "    <tr>\n",
              "      <th>0</th>\n",
              "      <td>0</td>\n",
              "      <td>30</td>\n",
              "      <td>30</td>\n",
              "      <td>8</td>\n",
              "      <td>0</td>\n",
              "      <td>0.1</td>\n",
              "      <td>0.1</td>\n",
              "      <td>1800</td>\n",
              "      <td>8.0</td>\n",
              "      <td>8.0</td>\n",
              "      <td>1.533333</td>\n",
              "      <td>0.383333</td>\n",
              "      <td>43.774540</td>\n",
              "      <td>1.559419</td>\n",
              "      <td>45.333959</td>\n",
              "      <td>WIDTH30_LENGTH30_HIGHT8_ORIENTATION0_WINDOWSRA...</td>\n",
              "      <td>WIDTH30_LENGTH30_HIGHT8_ORIENTATION0_WINDOWSRA...</td>\n",
              "      <td>Box</td>\n",
              "    </tr>\n",
              "    <tr>\n",
              "      <th>1</th>\n",
              "      <td>1</td>\n",
              "      <td>30</td>\n",
              "      <td>30</td>\n",
              "      <td>8</td>\n",
              "      <td>45</td>\n",
              "      <td>0.1</td>\n",
              "      <td>0.1</td>\n",
              "      <td>1800</td>\n",
              "      <td>8.0</td>\n",
              "      <td>8.0</td>\n",
              "      <td>1.533333</td>\n",
              "      <td>0.383333</td>\n",
              "      <td>43.647724</td>\n",
              "      <td>1.624867</td>\n",
              "      <td>45.272591</td>\n",
              "      <td>WIDTH40_LENGTH30_HIGHT8_ORIENTATION0_WINDOWSRA...</td>\n",
              "      <td>WIDTH40_LENGTH30_HIGHT8_ORIENTATION0_WINDOWSRA...</td>\n",
              "      <td>Box</td>\n",
              "    </tr>\n",
              "    <tr>\n",
              "      <th>2</th>\n",
              "      <td>2</td>\n",
              "      <td>30</td>\n",
              "      <td>30</td>\n",
              "      <td>8</td>\n",
              "      <td>90</td>\n",
              "      <td>0.1</td>\n",
              "      <td>0.1</td>\n",
              "      <td>1800</td>\n",
              "      <td>8.0</td>\n",
              "      <td>8.0</td>\n",
              "      <td>1.533333</td>\n",
              "      <td>0.383333</td>\n",
              "      <td>43.774540</td>\n",
              "      <td>1.559419</td>\n",
              "      <td>45.333959</td>\n",
              "      <td>WIDTH50_LENGTH30_HIGHT8_ORIENTATION0_WINDOWSRA...</td>\n",
              "      <td>WIDTH50_LENGTH30_HIGHT8_ORIENTATION0_WINDOWSRA...</td>\n",
              "      <td>Box</td>\n",
              "    </tr>\n",
              "    <tr>\n",
              "      <th>3</th>\n",
              "      <td>3</td>\n",
              "      <td>30</td>\n",
              "      <td>30</td>\n",
              "      <td>8</td>\n",
              "      <td>135</td>\n",
              "      <td>0.1</td>\n",
              "      <td>0.1</td>\n",
              "      <td>1800</td>\n",
              "      <td>8.0</td>\n",
              "      <td>8.0</td>\n",
              "      <td>1.533333</td>\n",
              "      <td>0.383333</td>\n",
              "      <td>43.647627</td>\n",
              "      <td>1.625249</td>\n",
              "      <td>45.272876</td>\n",
              "      <td>WIDTH60_LENGTH30_HIGHT8_ORIENTATION0_WINDOWSRA...</td>\n",
              "      <td>WIDTH60_LENGTH30_HIGHT8_ORIENTATION0_WINDOWSRA...</td>\n",
              "      <td>Box</td>\n",
              "    </tr>\n",
              "    <tr>\n",
              "      <th>4</th>\n",
              "      <td>4</td>\n",
              "      <td>30</td>\n",
              "      <td>30</td>\n",
              "      <td>8</td>\n",
              "      <td>180</td>\n",
              "      <td>0.1</td>\n",
              "      <td>0.1</td>\n",
              "      <td>1800</td>\n",
              "      <td>8.0</td>\n",
              "      <td>8.0</td>\n",
              "      <td>1.533333</td>\n",
              "      <td>0.383333</td>\n",
              "      <td>43.774540</td>\n",
              "      <td>1.559419</td>\n",
              "      <td>45.333959</td>\n",
              "      <td>WIDTH30_LENGTH40_HIGHT8_ORIENTATION0_WINDOWSRA...</td>\n",
              "      <td>WIDTH30_LENGTH40_HIGHT8_ORIENTATION0_WINDOWSRA...</td>\n",
              "      <td>Box</td>\n",
              "    </tr>\n",
              "  </tbody>\n",
              "</table>\n",
              "</div>\n",
              "    <div class=\"colab-df-buttons\">\n",
              "\n",
              "  <div class=\"colab-df-container\">\n",
              "    <button class=\"colab-df-convert\" onclick=\"convertToInteractive('df-00c83e45-d3fe-4751-80ea-165afb46665d')\"\n",
              "            title=\"Convert this dataframe to an interactive table.\"\n",
              "            style=\"display:none;\">\n",
              "\n",
              "  <svg xmlns=\"http://www.w3.org/2000/svg\" height=\"24px\" viewBox=\"0 -960 960 960\">\n",
              "    <path d=\"M120-120v-720h720v720H120Zm60-500h600v-160H180v160Zm220 220h160v-160H400v160Zm0 220h160v-160H400v160ZM180-400h160v-160H180v160Zm440 0h160v-160H620v160ZM180-180h160v-160H180v160Zm440 0h160v-160H620v160Z\"/>\n",
              "  </svg>\n",
              "    </button>\n",
              "\n",
              "  <style>\n",
              "    .colab-df-container {\n",
              "      display:flex;\n",
              "      gap: 12px;\n",
              "    }\n",
              "\n",
              "    .colab-df-convert {\n",
              "      background-color: #E8F0FE;\n",
              "      border: none;\n",
              "      border-radius: 50%;\n",
              "      cursor: pointer;\n",
              "      display: none;\n",
              "      fill: #1967D2;\n",
              "      height: 32px;\n",
              "      padding: 0 0 0 0;\n",
              "      width: 32px;\n",
              "    }\n",
              "\n",
              "    .colab-df-convert:hover {\n",
              "      background-color: #E2EBFA;\n",
              "      box-shadow: 0px 1px 2px rgba(60, 64, 67, 0.3), 0px 1px 3px 1px rgba(60, 64, 67, 0.15);\n",
              "      fill: #174EA6;\n",
              "    }\n",
              "\n",
              "    .colab-df-buttons div {\n",
              "      margin-bottom: 4px;\n",
              "    }\n",
              "\n",
              "    [theme=dark] .colab-df-convert {\n",
              "      background-color: #3B4455;\n",
              "      fill: #D2E3FC;\n",
              "    }\n",
              "\n",
              "    [theme=dark] .colab-df-convert:hover {\n",
              "      background-color: #434B5C;\n",
              "      box-shadow: 0px 1px 3px 1px rgba(0, 0, 0, 0.15);\n",
              "      filter: drop-shadow(0px 1px 2px rgba(0, 0, 0, 0.3));\n",
              "      fill: #FFFFFF;\n",
              "    }\n",
              "  </style>\n",
              "\n",
              "    <script>\n",
              "      const buttonEl =\n",
              "        document.querySelector('#df-00c83e45-d3fe-4751-80ea-165afb46665d button.colab-df-convert');\n",
              "      buttonEl.style.display =\n",
              "        google.colab.kernel.accessAllowed ? 'block' : 'none';\n",
              "\n",
              "      async function convertToInteractive(key) {\n",
              "        const element = document.querySelector('#df-00c83e45-d3fe-4751-80ea-165afb46665d');\n",
              "        const dataTable =\n",
              "          await google.colab.kernel.invokeFunction('convertToInteractive',\n",
              "                                                    [key], {});\n",
              "        if (!dataTable) return;\n",
              "\n",
              "        const docLinkHtml = 'Like what you see? Visit the ' +\n",
              "          '<a target=\"_blank\" href=https://colab.research.google.com/notebooks/data_table.ipynb>data table notebook</a>'\n",
              "          + ' to learn more about interactive tables.';\n",
              "        element.innerHTML = '';\n",
              "        dataTable['output_type'] = 'display_data';\n",
              "        await google.colab.output.renderOutput(dataTable, element);\n",
              "        const docLink = document.createElement('div');\n",
              "        docLink.innerHTML = docLinkHtml;\n",
              "        element.appendChild(docLink);\n",
              "      }\n",
              "    </script>\n",
              "  </div>\n",
              "\n",
              "\n",
              "<div id=\"df-3f5b8d1a-53fa-406f-9e0a-6d53b976d3e1\">\n",
              "  <button class=\"colab-df-quickchart\" onclick=\"quickchart('df-3f5b8d1a-53fa-406f-9e0a-6d53b976d3e1')\"\n",
              "            title=\"Suggest charts\"\n",
              "            style=\"display:none;\">\n",
              "\n",
              "<svg xmlns=\"http://www.w3.org/2000/svg\" height=\"24px\"viewBox=\"0 0 24 24\"\n",
              "     width=\"24px\">\n",
              "    <g>\n",
              "        <path d=\"M19 3H5c-1.1 0-2 .9-2 2v14c0 1.1.9 2 2 2h14c1.1 0 2-.9 2-2V5c0-1.1-.9-2-2-2zM9 17H7v-7h2v7zm4 0h-2V7h2v10zm4 0h-2v-4h2v4z\"/>\n",
              "    </g>\n",
              "</svg>\n",
              "  </button>\n",
              "\n",
              "<style>\n",
              "  .colab-df-quickchart {\n",
              "      --bg-color: #E8F0FE;\n",
              "      --fill-color: #1967D2;\n",
              "      --hover-bg-color: #E2EBFA;\n",
              "      --hover-fill-color: #174EA6;\n",
              "      --disabled-fill-color: #AAA;\n",
              "      --disabled-bg-color: #DDD;\n",
              "  }\n",
              "\n",
              "  [theme=dark] .colab-df-quickchart {\n",
              "      --bg-color: #3B4455;\n",
              "      --fill-color: #D2E3FC;\n",
              "      --hover-bg-color: #434B5C;\n",
              "      --hover-fill-color: #FFFFFF;\n",
              "      --disabled-bg-color: #3B4455;\n",
              "      --disabled-fill-color: #666;\n",
              "  }\n",
              "\n",
              "  .colab-df-quickchart {\n",
              "    background-color: var(--bg-color);\n",
              "    border: none;\n",
              "    border-radius: 50%;\n",
              "    cursor: pointer;\n",
              "    display: none;\n",
              "    fill: var(--fill-color);\n",
              "    height: 32px;\n",
              "    padding: 0;\n",
              "    width: 32px;\n",
              "  }\n",
              "\n",
              "  .colab-df-quickchart:hover {\n",
              "    background-color: var(--hover-bg-color);\n",
              "    box-shadow: 0 1px 2px rgba(60, 64, 67, 0.3), 0 1px 3px 1px rgba(60, 64, 67, 0.15);\n",
              "    fill: var(--button-hover-fill-color);\n",
              "  }\n",
              "\n",
              "  .colab-df-quickchart-complete:disabled,\n",
              "  .colab-df-quickchart-complete:disabled:hover {\n",
              "    background-color: var(--disabled-bg-color);\n",
              "    fill: var(--disabled-fill-color);\n",
              "    box-shadow: none;\n",
              "  }\n",
              "\n",
              "  .colab-df-spinner {\n",
              "    border: 2px solid var(--fill-color);\n",
              "    border-color: transparent;\n",
              "    border-bottom-color: var(--fill-color);\n",
              "    animation:\n",
              "      spin 1s steps(1) infinite;\n",
              "  }\n",
              "\n",
              "  @keyframes spin {\n",
              "    0% {\n",
              "      border-color: transparent;\n",
              "      border-bottom-color: var(--fill-color);\n",
              "      border-left-color: var(--fill-color);\n",
              "    }\n",
              "    20% {\n",
              "      border-color: transparent;\n",
              "      border-left-color: var(--fill-color);\n",
              "      border-top-color: var(--fill-color);\n",
              "    }\n",
              "    30% {\n",
              "      border-color: transparent;\n",
              "      border-left-color: var(--fill-color);\n",
              "      border-top-color: var(--fill-color);\n",
              "      border-right-color: var(--fill-color);\n",
              "    }\n",
              "    40% {\n",
              "      border-color: transparent;\n",
              "      border-right-color: var(--fill-color);\n",
              "      border-top-color: var(--fill-color);\n",
              "    }\n",
              "    60% {\n",
              "      border-color: transparent;\n",
              "      border-right-color: var(--fill-color);\n",
              "    }\n",
              "    80% {\n",
              "      border-color: transparent;\n",
              "      border-right-color: var(--fill-color);\n",
              "      border-bottom-color: var(--fill-color);\n",
              "    }\n",
              "    90% {\n",
              "      border-color: transparent;\n",
              "      border-bottom-color: var(--fill-color);\n",
              "    }\n",
              "  }\n",
              "</style>\n",
              "\n",
              "  <script>\n",
              "    async function quickchart(key) {\n",
              "      const quickchartButtonEl =\n",
              "        document.querySelector('#' + key + ' button');\n",
              "      quickchartButtonEl.disabled = true;  // To prevent multiple clicks.\n",
              "      quickchartButtonEl.classList.add('colab-df-spinner');\n",
              "      try {\n",
              "        const charts = await google.colab.kernel.invokeFunction(\n",
              "            'suggestCharts', [key], {});\n",
              "      } catch (error) {\n",
              "        console.error('Error during call to suggestCharts:', error);\n",
              "      }\n",
              "      quickchartButtonEl.classList.remove('colab-df-spinner');\n",
              "      quickchartButtonEl.classList.add('colab-df-quickchart-complete');\n",
              "    }\n",
              "    (() => {\n",
              "      let quickchartButtonEl =\n",
              "        document.querySelector('#df-3f5b8d1a-53fa-406f-9e0a-6d53b976d3e1 button');\n",
              "      quickchartButtonEl.style.display =\n",
              "        google.colab.kernel.accessAllowed ? 'block' : 'none';\n",
              "    })();\n",
              "  </script>\n",
              "</div>\n",
              "\n",
              "    </div>\n",
              "  </div>\n"
            ],
            "text/plain": [
              "   Unnamed: 0  Width  Length  Height  Orientation  Window_Ratio  \\\n",
              "0           0     30      30       8            0           0.1   \n",
              "1           1     30      30       8           45           0.1   \n",
              "2           2     30      30       8           90           0.1   \n",
              "3           3     30      30       8          135           0.1   \n",
              "4           4     30      30       8          180           0.1   \n",
              "\n",
              "   Skylight_Ratio  Area  Court_Length  Court_Width  Form_Factor  \\\n",
              "0             0.1  1800           8.0          8.0     1.533333   \n",
              "1             0.1  1800           8.0          8.0     1.533333   \n",
              "2             0.1  1800           8.0          8.0     1.533333   \n",
              "3             0.1  1800           8.0          8.0     1.533333   \n",
              "4             0.1  1800           8.0          8.0     1.533333   \n",
              "\n",
              "   Surface_Volume_Ratio  Cooling_Load  Heating_Load  Total_Load  \\\n",
              "0              0.383333     43.774540      1.559419   45.333959   \n",
              "1              0.383333     43.647724      1.624867   45.272591   \n",
              "2              0.383333     43.774540      1.559419   45.333959   \n",
              "3              0.383333     43.647627      1.625249   45.272876   \n",
              "4              0.383333     43.774540      1.559419   45.333959   \n",
              "\n",
              "                                               Image  \\\n",
              "0  WIDTH30_LENGTH30_HIGHT8_ORIENTATION0_WINDOWSRA...   \n",
              "1  WIDTH40_LENGTH30_HIGHT8_ORIENTATION0_WINDOWSRA...   \n",
              "2  WIDTH50_LENGTH30_HIGHT8_ORIENTATION0_WINDOWSRA...   \n",
              "3  WIDTH60_LENGTH30_HIGHT8_ORIENTATION0_WINDOWSRA...   \n",
              "4  WIDTH30_LENGTH40_HIGHT8_ORIENTATION0_WINDOWSRA...   \n",
              "\n",
              "                                              ThreeD Shape  \n",
              "0  WIDTH30_LENGTH30_HIGHT8_ORIENTATION0_WINDOWSRA...   Box  \n",
              "1  WIDTH40_LENGTH30_HIGHT8_ORIENTATION0_WINDOWSRA...   Box  \n",
              "2  WIDTH50_LENGTH30_HIGHT8_ORIENTATION0_WINDOWSRA...   Box  \n",
              "3  WIDTH60_LENGTH30_HIGHT8_ORIENTATION0_WINDOWSRA...   Box  \n",
              "4  WIDTH30_LENGTH40_HIGHT8_ORIENTATION0_WINDOWSRA...   Box  "
            ]
          },
          "execution_count": 3,
          "metadata": {},
          "output_type": "execute_result"
        }
      ],
      "source": [
        "# display the first few rows\n",
        "df.head()"
      ]
    },
    {
      "cell_type": "code",
      "execution_count": null,
      "metadata": {
        "colab": {
          "base_uri": "https://localhost:8080/"
        },
        "id": "OX9SD12p6sUd",
        "outputId": "dee94e5f-2332-4313-9998-d4b574592847"
      },
      "outputs": [
        {
          "data": {
            "text/plain": [
              "(15356, 18)"
            ]
          },
          "execution_count": 4,
          "metadata": {},
          "output_type": "execute_result"
        }
      ],
      "source": [
        "# display shape of data\n",
        "df.shape"
      ]
    },
    {
      "cell_type": "code",
      "execution_count": null,
      "metadata": {
        "collapsed": true,
        "id": "-Sg3xGzy6u4q"
      },
      "outputs": [],
      "source": [
        "# Display summary statistics of the dataset\n",
        "df.describe()"
      ]
    },
    {
      "cell_type": "code",
      "execution_count": null,
      "metadata": {
        "colab": {
          "base_uri": "https://localhost:8080/"
        },
        "collapsed": true,
        "id": "vdmx76qj6w_l",
        "outputId": "4c9203f5-6824-4683-f0ba-f9eed6aaf6e9"
      },
      "outputs": [
        {
          "name": "stdout",
          "output_type": "stream",
          "text": [
            "<class 'pandas.core.frame.DataFrame'>\n",
            "RangeIndex: 15356 entries, 0 to 15355\n",
            "Data columns (total 18 columns):\n",
            " #   Column                Non-Null Count  Dtype  \n",
            "---  ------                --------------  -----  \n",
            " 0   Unnamed: 0            15356 non-null  int64  \n",
            " 1   Width                 15356 non-null  int64  \n",
            " 2   Length                15356 non-null  int64  \n",
            " 3   Height                15356 non-null  int64  \n",
            " 4   Orientation           15356 non-null  int64  \n",
            " 5   Window_Ratio          15356 non-null  float64\n",
            " 6   Skylight_Ratio        12284 non-null  float64\n",
            " 7   Area                  15356 non-null  int64  \n",
            " 8   Court_Length          12284 non-null  float64\n",
            " 9   Court_Width           12284 non-null  float64\n",
            " 10  Form_Factor           15356 non-null  float64\n",
            " 11  Surface_Volume_Ratio  15356 non-null  float64\n",
            " 12  Cooling_Load          15356 non-null  float64\n",
            " 13  Heating_Load          15356 non-null  float64\n",
            " 14  Total_Load            15356 non-null  float64\n",
            " 15  Image                 7680 non-null   object \n",
            " 16  ThreeD                7680 non-null   object \n",
            " 17  Shape                 15356 non-null  object \n",
            "dtypes: float64(9), int64(6), object(3)\n",
            "memory usage: 2.1+ MB\n"
          ]
        }
      ],
      "source": [
        "df.info()"
      ]
    },
    {
      "cell_type": "markdown",
      "source": [
        "## Data Cleaning"
      ],
      "metadata": {
        "id": "DN-NjXgqdhTA"
      }
    },
    {
      "cell_type": "code",
      "execution_count": null,
      "metadata": {
        "collapsed": true,
        "id": "AOCYSqvB7VD2"
      },
      "outputs": [],
      "source": [
        "# Check for missing values\n",
        "df.isna().sum()"
      ]
    },
    {
      "cell_type": "code",
      "execution_count": null,
      "metadata": {
        "colab": {
          "base_uri": "https://localhost:8080/",
          "height": 226
        },
        "collapsed": true,
        "id": "YRIslYe26yER",
        "outputId": "71a844e6-c5cf-406e-8705-dfeef79ac749"
      },
      "outputs": [
        {
          "data": {
            "text/html": [
              "<div>\n",
              "<style scoped>\n",
              "    .dataframe tbody tr th:only-of-type {\n",
              "        vertical-align: middle;\n",
              "    }\n",
              "\n",
              "    .dataframe tbody tr th {\n",
              "        vertical-align: top;\n",
              "    }\n",
              "\n",
              "    .dataframe thead th {\n",
              "        text-align: right;\n",
              "    }\n",
              "</style>\n",
              "<table border=\"1\" class=\"dataframe\">\n",
              "  <thead>\n",
              "    <tr style=\"text-align: right;\">\n",
              "      <th></th>\n",
              "      <th>Width</th>\n",
              "      <th>Length</th>\n",
              "      <th>Height</th>\n",
              "      <th>Orientation</th>\n",
              "      <th>Window_Ratio</th>\n",
              "      <th>Skylight_Ratio</th>\n",
              "      <th>Area</th>\n",
              "      <th>Form_Factor</th>\n",
              "      <th>Cooling_Load</th>\n",
              "      <th>Heating_Load</th>\n",
              "      <th>Shape</th>\n",
              "    </tr>\n",
              "  </thead>\n",
              "  <tbody>\n",
              "    <tr>\n",
              "      <th>0</th>\n",
              "      <td>30</td>\n",
              "      <td>30</td>\n",
              "      <td>8</td>\n",
              "      <td>0</td>\n",
              "      <td>0.1</td>\n",
              "      <td>0.1</td>\n",
              "      <td>1800</td>\n",
              "      <td>1.533333</td>\n",
              "      <td>43.774540</td>\n",
              "      <td>1.559419</td>\n",
              "      <td>Box</td>\n",
              "    </tr>\n",
              "    <tr>\n",
              "      <th>1</th>\n",
              "      <td>30</td>\n",
              "      <td>30</td>\n",
              "      <td>8</td>\n",
              "      <td>45</td>\n",
              "      <td>0.1</td>\n",
              "      <td>0.1</td>\n",
              "      <td>1800</td>\n",
              "      <td>1.533333</td>\n",
              "      <td>43.647724</td>\n",
              "      <td>1.624867</td>\n",
              "      <td>Box</td>\n",
              "    </tr>\n",
              "    <tr>\n",
              "      <th>2</th>\n",
              "      <td>30</td>\n",
              "      <td>30</td>\n",
              "      <td>8</td>\n",
              "      <td>90</td>\n",
              "      <td>0.1</td>\n",
              "      <td>0.1</td>\n",
              "      <td>1800</td>\n",
              "      <td>1.533333</td>\n",
              "      <td>43.774540</td>\n",
              "      <td>1.559419</td>\n",
              "      <td>Box</td>\n",
              "    </tr>\n",
              "    <tr>\n",
              "      <th>3</th>\n",
              "      <td>30</td>\n",
              "      <td>30</td>\n",
              "      <td>8</td>\n",
              "      <td>135</td>\n",
              "      <td>0.1</td>\n",
              "      <td>0.1</td>\n",
              "      <td>1800</td>\n",
              "      <td>1.533333</td>\n",
              "      <td>43.647627</td>\n",
              "      <td>1.625249</td>\n",
              "      <td>Box</td>\n",
              "    </tr>\n",
              "    <tr>\n",
              "      <th>4</th>\n",
              "      <td>30</td>\n",
              "      <td>30</td>\n",
              "      <td>8</td>\n",
              "      <td>180</td>\n",
              "      <td>0.1</td>\n",
              "      <td>0.1</td>\n",
              "      <td>1800</td>\n",
              "      <td>1.533333</td>\n",
              "      <td>43.774540</td>\n",
              "      <td>1.559419</td>\n",
              "      <td>Box</td>\n",
              "    </tr>\n",
              "  </tbody>\n",
              "</table>\n",
              "</div>"
            ],
            "text/plain": [
              "   Width  Length  Height  Orientation  Window_Ratio  Skylight_Ratio  Area  \\\n",
              "0     30      30       8            0           0.1             0.1  1800   \n",
              "1     30      30       8           45           0.1             0.1  1800   \n",
              "2     30      30       8           90           0.1             0.1  1800   \n",
              "3     30      30       8          135           0.1             0.1  1800   \n",
              "4     30      30       8          180           0.1             0.1  1800   \n",
              "\n",
              "   Form_Factor  Cooling_Load  Heating_Load Shape  \n",
              "0     1.533333     43.774540      1.559419   Box  \n",
              "1     1.533333     43.647724      1.624867   Box  \n",
              "2     1.533333     43.774540      1.559419   Box  \n",
              "3     1.533333     43.647627      1.625249   Box  \n",
              "4     1.533333     43.774540      1.559419   Box  "
            ]
          },
          "execution_count": 35,
          "metadata": {},
          "output_type": "execute_result"
        }
      ],
      "source": [
        "# Drop unnecessary columns\n",
        "df = df.drop(columns=['Unnamed: 0', 'Image', 'ThreeD','Total_Load','Surface_Volume_Ratio','Court_Length',\t'Court_Width'])"
      ]
    },
    {
      "cell_type": "code",
      "execution_count": null,
      "metadata": {
        "id": "w8PyQevI7lCT"
      },
      "outputs": [],
      "source": [
        "# Fill missing values in 'Skylight_Ratio' with 0\n",
        "df['Skylight_Ratio'].fillna(0, inplace=True)"
      ]
    },
    {
      "cell_type": "markdown",
      "source": [
        "## Feature Engineering"
      ],
      "metadata": {
        "id": "ChRc8-f_ejyU"
      }
    },
    {
      "cell_type": "code",
      "execution_count": null,
      "metadata": {
        "colab": {
          "base_uri": "https://localhost:8080/",
          "height": 226
        },
        "id": "2_kyhvPa92t3",
        "outputId": "baf31921-a86b-4623-e1ad-3e8060faf361",
        "collapsed": true
      },
      "outputs": [
        {
          "data": {
            "text/html": [
              "<div>\n",
              "<style scoped>\n",
              "    .dataframe tbody tr th:only-of-type {\n",
              "        vertical-align: middle;\n",
              "    }\n",
              "\n",
              "    .dataframe tbody tr th {\n",
              "        vertical-align: top;\n",
              "    }\n",
              "\n",
              "    .dataframe thead th {\n",
              "        text-align: right;\n",
              "    }\n",
              "</style>\n",
              "<table border=\"1\" class=\"dataframe\">\n",
              "  <thead>\n",
              "    <tr style=\"text-align: right;\">\n",
              "      <th></th>\n",
              "      <th>Width</th>\n",
              "      <th>Length</th>\n",
              "      <th>Height</th>\n",
              "      <th>Orientation</th>\n",
              "      <th>Window_Ratio</th>\n",
              "      <th>Skylight_Ratio</th>\n",
              "      <th>Area</th>\n",
              "      <th>Form_Factor</th>\n",
              "      <th>Cooling_Load</th>\n",
              "      <th>Heating_Load</th>\n",
              "      <th>Shape_Box</th>\n",
              "      <th>Shape_L</th>\n",
              "      <th>Shape_O</th>\n",
              "      <th>Shape_U</th>\n",
              "    </tr>\n",
              "  </thead>\n",
              "  <tbody>\n",
              "    <tr>\n",
              "      <th>0</th>\n",
              "      <td>30</td>\n",
              "      <td>30</td>\n",
              "      <td>8</td>\n",
              "      <td>0</td>\n",
              "      <td>0.1</td>\n",
              "      <td>0.1</td>\n",
              "      <td>1800</td>\n",
              "      <td>1.533333</td>\n",
              "      <td>43.774540</td>\n",
              "      <td>1.559419</td>\n",
              "      <td>1</td>\n",
              "      <td>0</td>\n",
              "      <td>0</td>\n",
              "      <td>0</td>\n",
              "    </tr>\n",
              "    <tr>\n",
              "      <th>1</th>\n",
              "      <td>30</td>\n",
              "      <td>30</td>\n",
              "      <td>8</td>\n",
              "      <td>45</td>\n",
              "      <td>0.1</td>\n",
              "      <td>0.1</td>\n",
              "      <td>1800</td>\n",
              "      <td>1.533333</td>\n",
              "      <td>43.647724</td>\n",
              "      <td>1.624867</td>\n",
              "      <td>1</td>\n",
              "      <td>0</td>\n",
              "      <td>0</td>\n",
              "      <td>0</td>\n",
              "    </tr>\n",
              "    <tr>\n",
              "      <th>2</th>\n",
              "      <td>30</td>\n",
              "      <td>30</td>\n",
              "      <td>8</td>\n",
              "      <td>90</td>\n",
              "      <td>0.1</td>\n",
              "      <td>0.1</td>\n",
              "      <td>1800</td>\n",
              "      <td>1.533333</td>\n",
              "      <td>43.774540</td>\n",
              "      <td>1.559419</td>\n",
              "      <td>1</td>\n",
              "      <td>0</td>\n",
              "      <td>0</td>\n",
              "      <td>0</td>\n",
              "    </tr>\n",
              "    <tr>\n",
              "      <th>3</th>\n",
              "      <td>30</td>\n",
              "      <td>30</td>\n",
              "      <td>8</td>\n",
              "      <td>135</td>\n",
              "      <td>0.1</td>\n",
              "      <td>0.1</td>\n",
              "      <td>1800</td>\n",
              "      <td>1.533333</td>\n",
              "      <td>43.647627</td>\n",
              "      <td>1.625249</td>\n",
              "      <td>1</td>\n",
              "      <td>0</td>\n",
              "      <td>0</td>\n",
              "      <td>0</td>\n",
              "    </tr>\n",
              "    <tr>\n",
              "      <th>4</th>\n",
              "      <td>30</td>\n",
              "      <td>30</td>\n",
              "      <td>8</td>\n",
              "      <td>180</td>\n",
              "      <td>0.1</td>\n",
              "      <td>0.1</td>\n",
              "      <td>1800</td>\n",
              "      <td>1.533333</td>\n",
              "      <td>43.774540</td>\n",
              "      <td>1.559419</td>\n",
              "      <td>1</td>\n",
              "      <td>0</td>\n",
              "      <td>0</td>\n",
              "      <td>0</td>\n",
              "    </tr>\n",
              "  </tbody>\n",
              "</table>\n",
              "</div>"
            ],
            "text/plain": [
              "   Width  Length  Height  Orientation  Window_Ratio  Skylight_Ratio  Area  \\\n",
              "0     30      30       8            0           0.1             0.1  1800   \n",
              "1     30      30       8           45           0.1             0.1  1800   \n",
              "2     30      30       8           90           0.1             0.1  1800   \n",
              "3     30      30       8          135           0.1             0.1  1800   \n",
              "4     30      30       8          180           0.1             0.1  1800   \n",
              "\n",
              "   Form_Factor  Cooling_Load  Heating_Load  Shape_Box  Shape_L  Shape_O  \\\n",
              "0     1.533333     43.774540      1.559419          1        0        0   \n",
              "1     1.533333     43.647724      1.624867          1        0        0   \n",
              "2     1.533333     43.774540      1.559419          1        0        0   \n",
              "3     1.533333     43.647627      1.625249          1        0        0   \n",
              "4     1.533333     43.774540      1.559419          1        0        0   \n",
              "\n",
              "   Shape_U  \n",
              "0        0  \n",
              "1        0  \n",
              "2        0  \n",
              "3        0  \n",
              "4        0  "
            ]
          },
          "execution_count": 38,
          "metadata": {},
          "output_type": "execute_result"
        }
      ],
      "source": [
        "df = pd.get_dummies(df, columns=['Shape'], dtype=int)"
      ]
    },
    {
      "cell_type": "markdown",
      "source": [
        "## Exploratory Data Analysis (EDA)"
      ],
      "metadata": {
        "id": "ESPSmlGmfZGb"
      }
    },
    {
      "cell_type": "code",
      "execution_count": null,
      "metadata": {
        "collapsed": true,
        "id": "0XXvDpCv9WXa"
      },
      "outputs": [],
      "source": [
        "# Generate and visualize the correlation matrix\n",
        "corr_matrix = df.corr()\n",
        "plt.figure(figsize=(12, 10))\n",
        "sns.heatmap(corr_matrix, annot=True, cmap='coolwarm', vmin=-1, vmax=1)\n",
        "plt.title('Correlation Matrix')\n",
        "plt.show()"
      ]
    },
    {
      "cell_type": "code",
      "execution_count": null,
      "metadata": {
        "colab": {
          "base_uri": "https://localhost:8080/",
          "height": 806
        },
        "collapsed": true,
        "id": "5h8-6gZxv4Y9",
        "outputId": "aa86ac93-7685-4eaf-a227-0216995966e5"
      },
      "outputs": [
        {
          "data": {
            "image/png": "[encoded data removed]",
            "text/plain": [
              "<Figure size 1200x1000 with 20 Axes>"
            ]
          },
          "metadata": {},
          "output_type": "display_data"
        }
      ],
      "source": [
        "# Visualize distributions of the dataset\n",
        "df.hist(figsize=(12, 10), bins=10, xlabelsize=8, ylabelsize=8);"
      ]
    },
    {
      "cell_type": "markdown",
      "metadata": {
        "id": "CwO0ixCiHL9b"
      },
      "source": [
        "## Handling Outliers"
      ]
    },
    {
      "cell_type": "code",
      "execution_count": null,
      "metadata": {
        "id": "AROH0bcb1Fs9"
      },
      "outputs": [],
      "source": [
        "# Function to apply Box-Cox transformation\n",
        "def boxcox_transform(df, column):\n",
        "    # Shift values to be positive if necessary\n",
        "    shifted_values = df[column] - df[column].min() + 1\n",
        "    transformed_values, _ = boxcox(shifted_values)\n",
        "    df[column] = transformed_values\n",
        "    return df\n",
        "\n",
        "# Apply Box-Cox transformation to Area\n",
        "data = boxcox_transform(df, 'Area')"
      ]
    },
    {
      "cell_type": "code",
      "execution_count": null,
      "metadata": {
        "id": "N5ioAT6-7HD7"
      },
      "outputs": [],
      "source": [
        "# Function to cap outliers\n",
        "def cap_outliers(df, column):\n",
        "    q1 = df[column].quantile(0.25)\n",
        "    q3 = df[column].quantile(0.75)\n",
        "    iqr = q3 - q1\n",
        "    lower_bound = q1 - 1.5 * iqr\n",
        "    upper_bound = q3 + 1.5 * iqr\n",
        "    df[column] = np.where(df[column] < lower_bound, lower_bound, df[column])\n",
        "    df[column] = np.where(df[column] > upper_bound, upper_bound, df[column])\n",
        "    return df\n",
        "\n",
        "# Apply capping for 'Cooling_Load' and 'Heating_Load'\n",
        "for column in ['Cooling_Load', 'Heating_Load']:\n",
        "    data = cap_outliers(df, column)"
      ]
    },
    {
      "cell_type": "code",
      "execution_count": null,
      "metadata": {
        "colab": {
          "base_uri": "https://localhost:8080/",
          "height": 1000
        },
        "collapsed": true,
        "id": "1q7SC6m51Mog",
        "outputId": "d3027dd2-5609-4915-831c-e6257b763a23"
      },
      "outputs": [
        {
          "name": "stdout",
          "output_type": "stream",
          "text": [
            "Number of outliers in Area after Transformation: 32\n",
            "Number of outliers in Cooling_Load after Transformation: 0\n",
            "Number of outliers in Heating_Load after Transformation: 0\n",
            "Number of outliers in Form_Factor after Transformation: 0\n"
          ]
        }
      ],
      "source": [
        "# Function to detect outliers\n",
        "def detect_outliers(df, column):\n",
        "    q1 = df[column].quantile(0.25)\n",
        "    q3 = df[column].quantile(0.75)\n",
        "    iqr = q3 - q1\n",
        "    lower_bound = q1 - 1.5 * iqr\n",
        "    upper_bound = q3 + 1.5 * iqr\n",
        "    outliers = df[(df[column] < lower_bound) | (df[column] > upper_bound)]\n",
        "    return outliers, lower_bound, upper_bound\n",
        "\n",
        "# Plot distributions and detect outliers after transformations\n",
        "for column in ['Area', 'Cooling_Load', 'Heating_Load','Form_Factor']:\n",
        "    outliers, lower_bound, upper_bound = detect_outliers(df, column)\n",
        "    print(f'Number of outliers in {column} after Transformation: {len(outliers)}')"
      ]
    },
    {
      "cell_type": "markdown",
      "source": [
        "## Feature and Target Separation"
      ],
      "metadata": {
        "id": "BAniEQpGgfxb"
      }
    },
    {
      "cell_type": "code",
      "execution_count": null,
      "metadata": {
        "id": "4keoQm8lZURn"
      },
      "outputs": [],
      "source": [
        "# Separate the features and targets\n",
        "X = df.drop(['Heating_Load', 'Cooling_Load'], axis=1)\n",
        "y_heating = df['Heating_Load']\n",
        "y_cooling = df['Cooling_Load']"
      ]
    },
    {
      "cell_type": "markdown",
      "metadata": {
        "id": "lro6vUQiBz7B"
      },
      "source": [
        "## Modeling"
      ]
    },
    {
      "cell_type": "markdown",
      "metadata": {
        "id": "q7G85mtoZURo"
      },
      "source": [
        "### Heating Load (AUTO ML)"
      ]
    },
    {
      "cell_type": "code",
      "source": [
        "# Setup PyCaret for Heating Load with Robust Scaler\n",
        "reg_setup_heating = setup(\n",
        "    data=pd.concat([X, y_heating], axis=1),\n",
        "    target='Heating_Load',\n",
        "    session_id=123,\n",
        "    normalize=True,\n",
        "    normalize_method='robust',\n",
        "    verbose=True)\n",
        "\n",
        "# Check the transformed data\n",
        "transformed_data = get_config('X_train')\n",
        "transformed_data.head()\n",
        "\n",
        "# Compare models and select the best one for Heating Load\n",
        "best_model_heating = compare_models()\n",
        "\n",
        "# Tune the hyperparameters of the best model for Heating Load\n",
        "tuned_model_heating = tune_model(best_model_heating)\n",
        "\n",
        "# Finalize the model for Heating Load\n",
        "final_model_heating = finalize_model(tuned_model_heating)\n",
        "\n",
        "# Save the model for Heating Load\n",
        "save_model(final_model_heating, 'final_model_heating_FINAL_2')"
      ],
      "metadata": {
        "id": "9XfO2Lhxg9JT"
      },
      "execution_count": null,
      "outputs": []
    },
    {
      "cell_type": "markdown",
      "source": [
        "#### Hyperparameter Tuning for LightGBM Model (Heating Load)"
      ],
      "metadata": {
        "id": "tlChKCxMg_oB"
      }
    },
    {
      "cell_type": "code",
      "source": [
        "# Define parameter grid for tuning\n",
        "param_grid_lightgbm = {\n",
        "    'num_leaves': [20, 31, 40],\n",
        "    'min_data_in_leaf': [20, 40, 60],\n",
        "    'learning_rate': [0.01, 0.05, 0.1],\n",
        "    'n_estimators': [100, 200, 300],\n",
        "    'reg_alpha': [0.1, 0.5, 1.0],\n",
        "    'reg_lambda': [0.1, 0.5, 1.0]\n",
        "}\n",
        "\n",
        "# Tune the model with the new parameter grid\n",
        "tuned_lightgbm_heating = tune_model(\n",
        "    create_model('lightgbm'),\n",
        "    custom_grid=param_grid_lightgbm,\n",
        "    optimize='MAE'\n",
        ")\n",
        "\n",
        "# Save the tuned model\n",
        "save_model(tuned_lightgbm_heating, 'tuned_model_heating_2')"
      ],
      "metadata": {
        "id": "8JME4KblhCkv"
      },
      "execution_count": null,
      "outputs": []
    },
    {
      "cell_type": "markdown",
      "metadata": {
        "id": "xjUADNR4ZURs"
      },
      "source": [
        "### Cooling Load (AUTO ML)"
      ]
    },
    {
      "cell_type": "code",
      "source": [
        "# Setup PyCaret for Cooling Load with Robust Scaler\n",
        "reg_setup_cooling = setup(data=pd.concat([X, y_cooling], axis=1), target='Cooling_Load',\n",
        "                          session_id=123, normalize=True, normalize_method='robust', verbose=True)\n",
        "\n",
        "# Compare models\n",
        "best_model_cooling = compare_models()\n",
        "\n",
        "# Tune the best model\n",
        "tuned_model_cooling = tune_model(best_model_cooling)\n",
        "\n",
        "# Finalize the model\n",
        "final_model_cooling = finalize_model(tuned_model_cooling)\n",
        "\n",
        "# Save the final model\n",
        "save_model(final_model_cooling, 'final_model_cooling_FINAL_2')"
      ],
      "metadata": {
        "id": "d4yl6m6thKDO"
      },
      "execution_count": null,
      "outputs": []
    },
    {
      "cell_type": "markdown",
      "source": [
        "#### Hyperparameter Tuning for LightGBM Model (Cooling Load)"
      ],
      "metadata": {
        "id": "nCYRpC5ZhNtA"
      }
    },
    {
      "cell_type": "code",
      "source": [
        "# Define parameter grid for tuning\n",
        "param_grid_lightgbm = {\n",
        "    'num_leaves': [20, 31, 40],\n",
        "    'min_data_in_leaf': [20, 40, 60],\n",
        "    'learning_rate': [0.01, 0.05, 0.1],\n",
        "    'n_estimators': [100, 200, 300],\n",
        "    'reg_alpha': [0.1, 0.5, 1.0],\n",
        "    'reg_lambda': [0.1, 0.5, 1.0]\n",
        "}\n",
        "\n",
        "# Tune the model with the new parameter grid\n",
        "tuned_lightgbm_cooling = tune_model(\n",
        "    create_model('lightgbm'),\n",
        "    custom_grid=param_grid_lightgbm,\n",
        "    optimize='MAE'\n",
        ")\n",
        "\n",
        "# Save the tuned model\n",
        "save_model(tuned_lightgbm_cooling, 'tuned_model_cooling_2')"
      ],
      "metadata": {
        "id": "0RgeTgmvhRx3"
      },
      "execution_count": null,
      "outputs": []
    },
    {
      "cell_type": "markdown",
      "source": [
        "## Model Evaluation"
      ],
      "metadata": {
        "id": "S60M-fM3hUqU"
      }
    },
    {
      "cell_type": "code",
      "source": [
        "# Evaluate the tuned model for Heating Load\n",
        "results_heating = evaluate_model(tuned_lightgbm_heating)\n",
        "print(\"Evaluation results for tuned LightGBM (Heating Load):\")\n",
        "print(results_heating)\n",
        "\n",
        "# Evaluate the tuned model for Cooling Load\n",
        "results_cooling = evaluate_model(tuned_lightgbm_cooling)\n",
        "print(\"Evaluation results for tuned LightGBM (Cooling Load):\")\n",
        "print(results_cooling)"
      ],
      "metadata": {
        "id": "q048_jSAhWcH"
      },
      "execution_count": null,
      "outputs": []
    },
    {
      "cell_type": "markdown",
      "source": [
        "### Learning Curve Plotting"
      ],
      "metadata": {
        "id": "Sp5FfNlUhZwt"
      }
    },
    {
      "cell_type": "code",
      "execution_count": null,
      "metadata": {
        "id": "kjk3eYHQZURy",
        "outputId": "81f67adf-deaf-4cff-c0cb-fcadbc40da9e"
      },
      "outputs": [
        {
          "data": {
            "image/png": "[encoded data removed]",
            "text/plain": [
              "<Figure size 800x550 with 1 Axes>"
            ]
          },
          "metadata": {},
          "output_type": "display_data"
        },
        {
          "data": {
            "image/png": "[encoded data removed]",
            "text/plain": [
              "<Figure size 800x550 with 1 Axes>"
            ]
          },
          "metadata": {},
          "output_type": "display_data"
        }
      ],
      "source": [
        "# Function to plot learning curves\n",
        "def plot_learning_curve(estimator, X, y, title):\n",
        "    train_sizes, train_scores, test_scores = learning_curve(estimator, X, y, cv=5, n_jobs=-1, scoring='neg_mean_squared_error')\n",
        "    train_scores_mean = -train_scores.mean(axis=1)\n",
        "    test_scores_mean = -test_scores.mean(axis=1)\n",
        "\n",
        "    plt.figure()\n",
        "    plt.title(title)\n",
        "    plt.xlabel(\"Training examples\")\n",
        "    plt.ylabel(\"MSE\")\n",
        "    plt.grid()\n",
        "\n",
        "    plt.plot(train_sizes, train_scores_mean, 'o-', color=\"r\", label=\"Training score\")\n",
        "    plt.plot(train_sizes, test_scores_mean, 'o-', color=\"g\", label=\"Cross-validation score\")\n",
        "\n",
        "    plt.legend(loc=\"best\")\n",
        "    plt.show()\n",
        "\n",
        "# Extract the training and test sets from PyCaret configuration\n",
        "X_train_ff = get_config('X_train')\n",
        "y_train_heating = get_config('y_train')\n",
        "X_test_ff = get_config('X_test')\n",
        "y_test_heating = get_config('y_test')\n",
        "\n",
        "# Plot learning curve for the best heating load model\n",
        "plot_learning_curve(final_model_heating, X_train_ff, y_train_heating, title='Learning Curves (Heating Load Model)')\n",
        "\n",
        "X_train_cf = get_config('X_train')\n",
        "y_train_cooling = get_config('y_train')\n",
        "X_test_cf = get_config('X_test')\n",
        "y_test_cooling = get_config('y_test')\n",
        "plot_learning_curve(final_model_cooling, X_train_cf, y_train_cooling, title='Learning Curves (Cooling Load Model)')"
      ]
    }
  ],
  "metadata": {
    "accelerator": "GPU",
    "colab": {
      "gpuType": "T4",
      "provenance": [],
      "collapsed_sections": [
        "rw3ljGBwZURS",
        "DN-NjXgqdhTA",
        "ChRc8-f_ejyU",
        "ESPSmlGmfZGb",
        "CwO0ixCiHL9b",
        "BAniEQpGgfxb",
        "lro6vUQiBz7B",
        "q7G85mtoZURo",
        "tlChKCxMg_oB",
        "xjUADNR4ZURs",
        "nCYRpC5ZhNtA",
        "S60M-fM3hUqU",
        "Sp5FfNlUhZwt"
      ]
    },
    "kernelspec": {
      "display_name": "Python 3",
      "name": "python3"
    },
    "language_info": {
      "codemirror_mode": {
        "name": "ipython",
        "version": 3
      },
      "file_extension": ".py",
      "mimetype": "text/x-python",
      "name": "python",
      "nbconvert_exporter": "python",
      "pygments_lexer": "ipython3",
      "version": "3.12.2"
    }
  },
  "nbformat": 4,
  "nbformat_minor": 0
}